{
 "cells": [
  {
   "cell_type": "markdown",
   "metadata": {},
   "source": [
    "# Towardsdatascience Scraping Tutorial"
   ]
  },
  {
   "cell_type": "code",
   "execution_count": null,
   "metadata": {},
   "outputs": [],
   "source": [
    "from IPython.core.interactiveshell import InteractiveShell\n",
    "InteractiveShell.ast_node_interactivity = \"all\""
   ]
  },
  {
   "cell_type": "code",
   "execution_count": null,
   "metadata": {},
   "outputs": [],
   "source": [
    "import pandas as pd\n",
    "import numpy as np\n",
    "import requests\n",
    "from bs4 import BeautifulSoup\n",
    "import time\n",
    "import warnings\n",
    "warnings.filterwarnings('ignore')"
   ]
  },
  {
   "cell_type": "code",
   "execution_count": null,
   "metadata": {},
   "outputs": [],
   "source": [
    "url = 'https://www.transfermarkt.com/bundesliga/startseite/wettbewerb/L1/plus/?saison_id=2018'\n",
    "headers = {\"User-Agent\":\"Mozilla/5.0\"}\n",
    "response = requests.get(url, headers=headers, verify=False)\n",
    "soup = BeautifulSoup(response.text, 'html.parser')"
   ]
  },
  {
   "cell_type": "code",
   "execution_count": null,
   "metadata": {
    "scrolled": true
   },
   "outputs": [],
   "source": [
    "soup"
   ]
  },
  {
   "cell_type": "code",
   "execution_count": null,
   "metadata": {
    "scrolled": true
   },
   "outputs": [],
   "source": [
    "table = soup.find(\"table\", {\"class\" : \"items\"})\n",
    "table"
   ]
  },
  {
   "cell_type": "code",
   "execution_count": null,
   "metadata": {},
   "outputs": [],
   "source": [
    "row = table.findAll('tr')\n",
    "row"
   ]
  },
  {
   "cell_type": "code",
   "execution_count": null,
   "metadata": {
    "scrolled": false
   },
   "outputs": [],
   "source": [
    "len(row)"
   ]
  },
  {
   "cell_type": "code",
   "execution_count": null,
   "metadata": {},
   "outputs": [],
   "source": [
    "row[2].text"
   ]
  },
  {
   "cell_type": "code",
   "execution_count": null,
   "metadata": {
    "scrolled": true
   },
   "outputs": [],
   "source": [
    "row[2].findAll('td')[1].text\n",
    "row[2].findAll('td')[3].text\n",
    "row[2].findAll('td')[4].text\n",
    "row[2].findAll('td')[5].text\n",
    "row[2].findAll('td')[6].text\n",
    "row[2].findAll('td')[7].text"
   ]
  },
  {
   "cell_type": "code",
   "execution_count": null,
   "metadata": {},
   "outputs": [],
   "source": [
    "team = []\n",
    "squad = []\n",
    "age = []\n",
    "foreigners = []\n",
    "total_market_value = []\n",
    "average_market_value = []\n",
    "for row in table.findAll('tr'):\n",
    "    try:\n",
    "        col = row.findAll('td')\n",
    "        team.append(col[2].text)\n",
    "        squad.append(col[3].text)\n",
    "        age.append(col[4].text)\n",
    "        foreigners.append(col[5].text)\n",
    "        total_market_value.append(col[6].text)\n",
    "        average_market_value.append(col[7].text)\n",
    "    except:\n",
    "        pass"
   ]
  },
  {
   "cell_type": "code",
   "execution_count": null,
   "metadata": {},
   "outputs": [],
   "source": [
    "team[1:]"
   ]
  },
  {
   "cell_type": "code",
   "execution_count": null,
   "metadata": {},
   "outputs": [],
   "source": [
    "df_bundesliga = pd.DataFrame({'Team': team[1:],'Squad': squad[1:], 'Age': age[1:], 'Foreigners': foreigners[1:],\n",
    "                                     'Total Value': total_market_value[1:], 'Average value': average_market_value[1:]})\n"
   ]
  },
  {
   "cell_type": "code",
   "execution_count": null,
   "metadata": {
    "scrolled": false
   },
   "outputs": [],
   "source": [
    "df_bundesliga"
   ]
  },
  {
   "cell_type": "code",
   "execution_count": null,
   "metadata": {},
   "outputs": [],
   "source": [
    "table2 = soup.findAll(\"div\", {\"class\" : \"responsive-table\"})\n",
    "\n",
    "team2 = []\n",
    "place = []\n",
    "matches = []\n",
    "difference = []\n",
    "pts = []\n",
    "\n",
    "for row in table2[2].findAll('tr'):\n",
    "    try:\n",
    "        col = row.findAll('td')\n",
    "        team2.append(col[2].text)\n",
    "        place.append(col[0].text)\n",
    "        matches.append(col[3].text)\n",
    "        difference.append(col[4].text)\n",
    "        pts.append(col[5].text)\n",
    "    except:\n",
    "        pass"
   ]
  },
  {
   "cell_type": "code",
   "execution_count": null,
   "metadata": {
    "scrolled": true
   },
   "outputs": [],
   "source": [
    "dct_bl = {}\n",
    "dct_pl = {}\n",
    "dct_seriea = {}\n",
    "dct_laliga = {}\n",
    "dct_ligue1 = {}\n",
    "dct_russia = {}\n",
    "dct_portugal = {}\n",
    "dct_ukraine = {}\n",
    "dct_turkey = {}\n",
    "dct_belgium = {}\n",
    "\n",
    "for m in range(2012,2019):\n",
    "    dct_bl['df_bl_%s' % m] = pd.DataFrame()\n",
    "    dct_pl['df_pl_%s' % m] = pd.DataFrame()\n",
    "    dct_seriea['df_seriea_%s' % m] = pd.DataFrame()\n",
    "    dct_laliga['df_laliga_%s' % m] = pd.DataFrame()\n",
    "    dct_ligue1['df_ligue1_%s' % m] = pd.DataFrame()\n",
    "    dct_russia['df_russia_%s' % m] = pd.DataFrame()\n",
    "    dct_portugal['df_portugal_%s' % m] = pd.DataFrame()\n",
    "    dct_ukraine['df_ukraine_%s' % m] = pd.DataFrame()\n",
    "    dct_turkey['df_turkey_%s' % m] = pd.DataFrame()\n",
    "    dct_belgium['df_belgium_%s' % m] = pd.DataFrame()"
   ]
  },
  {
   "cell_type": "code",
   "execution_count": null,
   "metadata": {},
   "outputs": [],
   "source": [
    "dct_all = [dct_bl,dct_pl,dct_seriea,dct_laliga,dct_ligue1,dct_russia,dct_portugal,dct_ukraine,dct_turkey,dct_belgium]"
   ]
  },
  {
   "cell_type": "code",
   "execution_count": null,
   "metadata": {},
   "outputs": [],
   "source": [
    "dct_all[0]"
   ]
  }
 ],
 "metadata": {
  "kernelspec": {
   "display_name": "Python 3",
   "language": "python",
   "name": "python3"
  },
  "language_info": {
   "codemirror_mode": {
    "name": "ipython",
    "version": 3
   },
   "file_extension": ".py",
   "mimetype": "text/x-python",
   "name": "python",
   "nbconvert_exporter": "python",
   "pygments_lexer": "ipython3",
   "version": "3.7.1"
  }
 },
 "nbformat": 4,
 "nbformat_minor": 2
}
