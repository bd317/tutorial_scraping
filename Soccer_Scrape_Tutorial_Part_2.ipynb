{
 "cells": [
  {
   "cell_type": "markdown",
   "metadata": {},
   "source": [
    "# Towardsdatascience Scraping Tutorial"
   ]
  },
  {
   "cell_type": "markdown",
   "metadata": {},
   "source": [
    "## 1. The Scraping Script"
   ]
  },
  {
   "cell_type": "code",
   "execution_count": null,
   "metadata": {
    "scrolled": false
   },
   "outputs": [],
   "source": [
    "from IPython.core.interactiveshell import InteractiveShell\n",
    "InteractiveShell.ast_node_interactivity = \"all\"\n",
    "\n",
    "#Import the needed packages\n",
    "import pandas as pd\n",
    "import numpy as np\n",
    "import requests\n",
    "from bs4 import BeautifulSoup\n",
    "import time\n",
    "import warnings\n",
    "warnings.filterwarnings('ignore')\n",
    "\n",
    "#Create dictionaries with needed dataframes\n",
    "dct_bl = {}\n",
    "dct_pl = {}\n",
    "dct_seriea = {}\n",
    "dct_laliga = {}\n",
    "dct_ligue1 = {}\n",
    "dct_russia = {}\n",
    "dct_portugal = {}\n",
    "dct_ukraine = {}\n",
    "dct_turkey = {}\n",
    "dct_belgium = {}\n",
    "\n",
    "for m in range(2012,2019):\n",
    "    dct_bl['df_bl_%s' % m] = pd.DataFrame()\n",
    "    dct_pl['df_pl_%s' % m] = pd.DataFrame()\n",
    "    dct_seriea['df_seriea_%s' % m] = pd.DataFrame()\n",
    "    dct_laliga['df_laliga_%s' % m] = pd.DataFrame()\n",
    "    dct_ligue1['df_ligue1_%s' % m] = pd.DataFrame()\n",
    "    dct_russia['df_russia_%s' % m] = pd.DataFrame()\n",
    "    dct_portugal['df_portugal_%s' % m] = pd.DataFrame()\n",
    "    dct_ukraine['df_ukraine_%s' % m] = pd.DataFrame()\n",
    "    dct_turkey['df_turkey_%s' % m] = pd.DataFrame()\n",
    "    dct_belgium['df_belgium_%s' % m] = pd.DataFrame()\n",
    "    \n",
    "#List with our needed URLs for each league\n",
    "league_urls = (['https://www.transfermarkt.com/bundesliga/startseite/wettbewerb/L1/plus/?saison_id=',\n",
    "               'https://www.transfermarkt.com/premier-league/startseite/wettbewerb/GB1/plus/?saison_id=',\n",
    "               'https://www.transfermarkt.com/serie-a/startseite/wettbewerb/IT1/plus/?saison_id=',\n",
    "               'https://www.transfermarkt.com/laliga/startseite/wettbewerb/ES1/plus/?saison_id=',\n",
    "               'https://www.transfermarkt.com/ligue-1/startseite/wettbewerb/FR1/plus/?saison_id=',\n",
    "               'https://www.transfermarkt.com/premier-liga/startseite/wettbewerb/RU1/plus/?saison_id=',\n",
    "                'https://www.transfermarkt.com/liga-nos/startseite/wettbewerb/PO1/plus/?saison_id=',\n",
    "                'https://www.transfermarkt.com/premier-liga/startseite/wettbewerb/UKR1/plus/?saison_id=',\n",
    "                'https://www.transfermarkt.com/super-lig/startseite/wettbewerb/TR1/plus/?saison_id=',\n",
    "                'https://www.transfermarkt.com/jupiler-pro-league/startseite/wettbewerb/BE1/plus/?saison_id='])\n",
    "\n",
    "#Scrapping part\n",
    "#The first loop is for each url in our URL-list\n",
    "for l in range(0, len(league_urls)):\n",
    "    time.sleep(2)\n",
    "    #The second loop is for each year we want to scrape\n",
    "    for n in range(2012,2019):\n",
    "        time.sleep(3)\n",
    "        df_soccer1 = None\n",
    "        url = league_urls[l] + str(n)\n",
    "        headers = {\"User-Agent\":\"Mozilla/5.0\"}\n",
    "        response = requests.get(url, headers=headers, verify=False)\n",
    "        time.sleep(3)\n",
    "        soup = BeautifulSoup(response.text, 'html.parser')\n",
    "\n",
    "        #Table 1 with information about the value\n",
    "        table = soup.find(\"table\", {\"class\" : \"items\"})\n",
    "\n",
    "        team = []\n",
    "        squad = []\n",
    "        age = []\n",
    "        foreigners = []\n",
    "        total_market_value = []\n",
    "        average_market_value = []\n",
    "\n",
    "        for row in table.findAll('tr'):\n",
    "            try:\n",
    "                col = row.findAll('td')\n",
    "                team.append(col[2].text)\n",
    "                squad.append(col[3].text)\n",
    "                age.append(col[4].text)\n",
    "                foreigners.append(col[5].text)\n",
    "                total_market_value.append(col[6].text)\n",
    "                average_market_value.append(col[7].text)\n",
    "            except:\n",
    "                pass\n",
    "\n",
    "        team = [elem.replace('\\n','').replace('\\xa0','').strip() for elem in team]\n",
    "\n",
    "        #Table 2 with information about placement, goals and points\n",
    "        df_soccer2 = None\n",
    "\n",
    "        table2 = soup.findAll(\"div\", {\"class\" : \"responsive-table\"})\n",
    "\n",
    "        team2 = []\n",
    "        place = []\n",
    "        matches = []\n",
    "        difference = []\n",
    "        pts = []\n",
    "\n",
    "        if len(table2) <= 2:\n",
    "            for row in table2[1].findAll('tr'):\n",
    "                try:\n",
    "                    col = row.findAll('td')\n",
    "                    team2.append(col[2].text)\n",
    "                    place.append(col[0].text)\n",
    "                    matches.append(col[3].text)\n",
    "                    difference.append(col[4].text)\n",
    "                    pts.append(col[5].text)\n",
    "                except:\n",
    "                    pass\n",
    "        else:\n",
    "            #Sometimes the information you need is in another table\n",
    "            for row in table2[2].findAll('tr'):\n",
    "                try:\n",
    "                    col = row.findAll('td')\n",
    "                    team2.append(col[2].text)\n",
    "                    place.append(col[0].text)\n",
    "                    matches.append(col[3].text)\n",
    "                    difference.append(col[4].text)\n",
    "                    pts.append(col[5].text)\n",
    "                except:\n",
    "                    pass\n",
    "\n",
    "        team2 = [elem.replace('\\n','').replace('\\xa0','').strip() for elem in team2]\n",
    "\n",
    "        df_soccer1 = pd.DataFrame({'Team': team[1:], 'Season': n, 'Squad': squad[1:], 'Age': age[1:], 'Foreigners': foreigners[1:],\n",
    "                                     'Total Value': total_market_value[1:], 'Average value': average_market_value[1:]})\n",
    "\n",
    "        df_soccer2 = pd.DataFrame({'Team': team2, 'Place': place, 'Matches': matches, 'Difference': difference,\n",
    "                                 'Points': pts})\n",
    "        \n",
    "        #Store all dictionaries in a list\n",
    "        dct_all = [dct_bl,dct_pl,dct_seriea,dct_laliga,dct_ligue1,dct_russia,dct_portugal,dct_ukraine,dct_turkey,dct_belgium]\n",
    "        \n",
    "        #Merge df_soccer1 and df_soccer2 for each season\n",
    "        dct_all[l]['df_bl_%s' % n] = pd.merge(df_soccer1, df_soccer2, how=\"inner\", left_on=\"Team\", right_on=\"Team\")"
   ]
  },
  {
   "cell_type": "markdown",
   "metadata": {},
   "source": [
    "## 2. Data Transformation"
   ]
  },
  {
   "cell_type": "code",
   "execution_count": null,
   "metadata": {},
   "outputs": [],
   "source": [
    "df_bl_final = pd.concat(dct_bl.values(), ignore_index=True)\n",
    "df_pl_final = pd.concat(dct_pl.values(), ignore_index=True) \n",
    "df_seriea_final = pd.concat(dct_seriea.values(), ignore_index=True)\n",
    "df_laliga_final = pd.concat(dct_laliga.values(), ignore_index=True)\n",
    "df_ligue1_final = pd.concat(dct_ligue1.values(), ignore_index=True)\n",
    "df_russia_final = pd.concat(dct_russia.values(), ignore_index=True)\n",
    "df_portugal_final = pd.concat(dct_portugal.values(), ignore_index=True)\n",
    "df_ukraine_final = pd.concat(dct_ukraine.values(), ignore_index=True)\n",
    "df_turkey_final = pd.concat(dct_turkey.values(), ignore_index=True)\n",
    "df_belgium_final = pd.concat(dct_belgium.values(), ignore_index=True)\n",
    "\n",
    "df_bl_final['Country'] = 'Germany'\n",
    "df_pl_final['Country'] = 'England'\n",
    "df_seriea_final['Country'] = 'Italy'\n",
    "df_laliga_final['Country'] = 'Spain'\n",
    "df_ligue1_final['Country'] = 'France'\n",
    "df_russia_final['Country'] = 'Russia'\n",
    "df_portugal_final['Country'] = 'Portugal'\n",
    "df_ukraine_final['Country'] = 'Ukraine'\n",
    "df_turkey_final['Country'] = 'Turkey'\n",
    "df_belgium_final['Country'] = 'Belgium'\n",
    "\n",
    "df_final = pd.concat([df_bl_final,df_pl_final,df_seriea_final,df_laliga_final,df_ligue1_final,\n",
    "                df_russia_final,df_portugal_final,df_ukraine_final,df_turkey_final,df_belgium_final], ignore_index=True)"
   ]
  },
  {
   "cell_type": "code",
   "execution_count": null,
   "metadata": {
    "scrolled": true
   },
   "outputs": [],
   "source": [
    "df_final.head(5)"
   ]
  },
  {
   "cell_type": "code",
   "execution_count": null,
   "metadata": {
    "scrolled": true
   },
   "outputs": [],
   "source": [
    "df_final.loc[(df_final['Team'] == 'Bayern Munich') & (df_final['Season'] == 2018)]\n",
    "df_final.loc[(df_final['Team'] == 'KV Oostende') & (df_final['Season'] == 2018)]\n",
    "df_final.loc[(df_final['Team'] == 'Real Madrid') & (df_final['Season'] == 2018)]"
   ]
  },
  {
   "cell_type": "code",
   "execution_count": null,
   "metadata": {},
   "outputs": [],
   "source": [
    "#Cleaning strings and remove letters\n",
    "list_dataframes_conv = (['Average value','Total Value'])\n",
    "\n",
    "for n in range(0,len(list_dataframes_conv)):\n",
    "    df_final[list_dataframes_conv[n]] = df_final[list_dataframes_conv[n]]. \\\n",
    "    apply(lambda x: (x + \"0\").replace(',','') if \" Bill. €\" in x else x).str.replace(' Bill. €','')\n",
    "\n",
    "    df_final[list_dataframes_conv[n]] = df_final[list_dataframes_conv[n]]. \\\n",
    "    apply(lambda x: \"0,\" + x if \" Th. €\" in x else x).str.replace(' Mill. €','').str.replace(' Th. €','').replace(',',np.NaN)\n",
    "\n",
    "    df_final[list_dataframes_conv[n]] = df_final[list_dataframes_conv[n]].apply(lambda x: x.replace(',','.'))\n",
    "\n",
    "df_final['Age'] = df_final['Age'].apply(lambda x: x.replace(',','.'))"
   ]
  },
  {
   "cell_type": "code",
   "execution_count": null,
   "metadata": {},
   "outputs": [],
   "source": [
    "#Convert columns for calculation to float\n",
    "df_final[['Squad', 'Age', 'Foreigners', 'Total Value','Average value', 'Place', 'Matches', 'Difference', 'Points']] = \\\n",
    "df_final[['Squad', 'Age', 'Foreigners', 'Total Value','Average value', 'Place', 'Matches', 'Difference', 'Points']].astype(float)"
   ]
  },
  {
   "cell_type": "code",
   "execution_count": null,
   "metadata": {},
   "outputs": [],
   "source": [
    "#df_final.to_pickle(\"...path\\\\df_final.pkl\")\n",
    "#df_final.to_excel(\"...path\\\\df_final.xlsx\")"
   ]
  },
  {
   "cell_type": "markdown",
   "metadata": {},
   "source": [
    "## 3. Analysis"
   ]
  },
  {
   "cell_type": "code",
   "execution_count": null,
   "metadata": {},
   "outputs": [],
   "source": [
    "#Plotting the development\n",
    "import plotly\n",
    "import plotly.plotly as py\n",
    "import plotly.graph_objs as go\n",
    "from plotly.offline import iplot, init_notebook_mode\n",
    "import cufflinks\n",
    "cufflinks.go_offline(connected=True)\n",
    "init_notebook_mode(connected=True)\n",
    "cufflinks.set_config_file(world_readable=True, theme='pearl')\n",
    "\n",
    "#Development of the Squad values\n",
    "mepp_list_avg = []\n",
    "\n",
    "for n in range(2012,2019):\n",
    "    mepp = df_final[df_final['Season'] == n]['Total Value'].mean()\n",
    "    mepp_list_avg.append(mepp)\n",
    "\n",
    "#List with our Years\n",
    "years_l = []\n",
    "for k in range(2012,2019,1):\n",
    "    years_l.append(k)\n",
    "\n",
    "trace0 = go.Scatter(\n",
    "    x = years_l,\n",
    "    y = mepp_list_avg,\n",
    "    name = 'Average'\n",
    ")\n",
    "\n",
    "layout = {\n",
    "  \"title\": \"Development of Million € Squad Value per Point\", \n",
    "  \"font\": {\"size\": 16}, \n",
    "  \"yaxis\": {\n",
    "    \"title\": \"Million € Squad Value per Point\", \n",
    "  }\n",
    "}\n",
    "\n",
    "data = ([trace0])\n",
    "\n",
    "fig= go.Figure(data=data, layout=layout)\n",
    "plotly.offline.plot(fig)"
   ]
  },
  {
   "cell_type": "code",
   "execution_count": null,
   "metadata": {},
   "outputs": [],
   "source": [
    "#Correlation\n",
    "df_final.corr()['Total Value']['Points']"
   ]
  },
  {
   "cell_type": "code",
   "execution_count": null,
   "metadata": {},
   "outputs": [],
   "source": [
    "#Regression\n",
    "import statsmodels.api as sm\n",
    "reg1 = sm.OLS(endog=df_final['Points'], exog=df_final[['Total Value']], missing='drop')\n",
    "type(reg1)\n",
    "results = reg1.fit()\n",
    "type(results)\n",
    "print(results.summary())"
   ]
  }
 ],
 "metadata": {
  "kernelspec": {
   "display_name": "Python 3",
   "language": "python",
   "name": "python3"
  },
  "language_info": {
   "codemirror_mode": {
    "name": "ipython",
    "version": 3
   },
   "file_extension": ".py",
   "mimetype": "text/x-python",
   "name": "python",
   "nbconvert_exporter": "python",
   "pygments_lexer": "ipython3",
   "version": "3.7.1"
  }
 },
 "nbformat": 4,
 "nbformat_minor": 2
}
